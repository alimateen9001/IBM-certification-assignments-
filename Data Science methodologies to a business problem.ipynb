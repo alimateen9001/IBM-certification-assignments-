{
 "cells": [
  {
   "cell_type": "markdown",
   "id": "9001c0bb",
   "metadata": {},
   "source": [
    "# Project: Apply data science methodologies to a business problem"
   ]
  },
  {
   "cell_type": "markdown",
   "id": "de142d05",
   "metadata": {},
   "source": [
    "## Business Understanding:\n",
    "\n",
    "* **Objective** Chase wants to increase the numer of customers who subscribe for chase sapphire preffered/business credit card by 10% by the end of 2025.\n",
    "* **Constraints:** Competitors like American Express who offer the same benefits as chase sapphire preffered/business."
   ]
  },
  {
   "cell_type": "markdown",
   "id": "a265778e",
   "metadata": {},
   "source": [
    "## Data Understanding:\n",
    "* Explore the benfits that Chase provides in contrast to Amex for the last 5 years mentioned on their sites.\n",
    "* Look at the customers reviews and surveys on social media sites like reddit to explore why customers choose either.\n",
    "* Finding out how the customers were approached to signup for credit cards (emails, letters, in-person campains etc)."
   ]
  },
  {
   "cell_type": "markdown",
   "id": "16ee45ad",
   "metadata": {},
   "source": [
    "## Data Preparation:\n",
    "* Use relevant data from surveys and reviews to perofrm sentiment analysis.\n",
    "* List the benefits (such as signup points and cash back rewards) using databases."
   ]
  },
  {
   "cell_type": "markdown",
   "id": "a3abf004",
   "metadata": {},
   "source": [
    "## Data Modeling:\n",
    "* Use desicion trees on the provided data to find out if/how a customer was approached and if they signed up.\n",
    "* Train models on historical customer decision making data to increase signup rate using metrics like accuracy, completeness, consistency and timelines."
   ]
  },
  {
   "cell_type": "markdown",
   "id": "27d7aaca",
   "metadata": {},
   "source": [
    "## Data Evaluation:\n",
    "* Validate the data using cross validation.\n",
    "* Observe the model and ensure it meets objectives by comparing actual and predicted outcomes.\n",
    "* Iterate the model as many times as necessary."
   ]
  },
  {
   "cell_type": "markdown",
   "id": "f53db03a",
   "metadata": {},
   "source": [
    "## Model Deployment:\n",
    "* Deploy the model and monitor it's performance regularly.\n",
    "* Update the model with new data and feedback."
   ]
  }
 ],
 "metadata": {
  "kernelspec": {
   "display_name": "Python 3",
   "language": "python",
   "name": "python3"
  },
  "language_info": {
   "codemirror_mode": {
    "name": "ipython",
    "version": 3
   },
   "file_extension": ".py",
   "mimetype": "text/x-python",
   "name": "python",
   "nbconvert_exporter": "python",
   "pygments_lexer": "ipython3",
   "version": "3.8.8"
  }
 },
 "nbformat": 4,
 "nbformat_minor": 5
}
